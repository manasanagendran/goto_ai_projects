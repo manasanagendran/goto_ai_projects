{
  "nbformat": 4,
  "nbformat_minor": 0,
  "metadata": {
    "colab": {
      "provenance": [],
      "authorship_tag": "ABX9TyPF+9PUaobKtNzxKB/U1+fx",
      "include_colab_link": true
    },
    "kernelspec": {
      "name": "python3",
      "display_name": "Python 3"
    },
    "language_info": {
      "name": "python"
    }
  },
  "cells": [
    {
      "cell_type": "markdown",
      "metadata": {
        "id": "view-in-github",
        "colab_type": "text"
      },
      "source": [
        "<a href=\"https://colab.research.google.com/github/manasanagendran/goto_ai_projects/blob/main/RAG_Leave_policy.ipynb\" target=\"_parent\"><img src=\"https://colab.research.google.com/assets/colab-badge.svg\" alt=\"Open In Colab\"/></a>"
      ]
    },
    {
      "cell_type": "code",
      "execution_count": 3,
      "metadata": {
        "colab": {
          "base_uri": "https://localhost:8080/"
        },
        "id": "ubeJed6yGRHu",
        "outputId": "89a2455c-2186-4c2d-bb22-c04aae9106b7"
      },
      "outputs": [
        {
          "output_type": "stream",
          "name": "stdout",
          "text": [
            "Requirement already satisfied: langchain in /usr/local/lib/python3.11/dist-packages (0.3.25)\n",
            "Requirement already satisfied: langchain-core<1.0.0,>=0.3.58 in /usr/local/lib/python3.11/dist-packages (from langchain) (0.3.65)\n",
            "Requirement already satisfied: langchain-text-splitters<1.0.0,>=0.3.8 in /usr/local/lib/python3.11/dist-packages (from langchain) (0.3.8)\n",
            "Requirement already satisfied: langsmith<0.4,>=0.1.17 in /usr/local/lib/python3.11/dist-packages (from langchain) (0.3.45)\n",
            "Requirement already satisfied: pydantic<3.0.0,>=2.7.4 in /usr/local/lib/python3.11/dist-packages (from langchain) (2.11.5)\n",
            "Requirement already satisfied: SQLAlchemy<3,>=1.4 in /usr/local/lib/python3.11/dist-packages (from langchain) (2.0.41)\n",
            "Requirement already satisfied: requests<3,>=2 in /usr/local/lib/python3.11/dist-packages (from langchain) (2.32.3)\n",
            "Requirement already satisfied: PyYAML>=5.3 in /usr/local/lib/python3.11/dist-packages (from langchain) (6.0.2)\n",
            "Requirement already satisfied: tenacity!=8.4.0,<10.0.0,>=8.1.0 in /usr/local/lib/python3.11/dist-packages (from langchain-core<1.0.0,>=0.3.58->langchain) (9.1.2)\n",
            "Requirement already satisfied: jsonpatch<2.0,>=1.33 in /usr/local/lib/python3.11/dist-packages (from langchain-core<1.0.0,>=0.3.58->langchain) (1.33)\n",
            "Requirement already satisfied: packaging<25,>=23.2 in /usr/local/lib/python3.11/dist-packages (from langchain-core<1.0.0,>=0.3.58->langchain) (24.2)\n",
            "Requirement already satisfied: typing-extensions>=4.7 in /usr/local/lib/python3.11/dist-packages (from langchain-core<1.0.0,>=0.3.58->langchain) (4.14.0)\n",
            "Requirement already satisfied: httpx<1,>=0.23.0 in /usr/local/lib/python3.11/dist-packages (from langsmith<0.4,>=0.1.17->langchain) (0.28.1)\n",
            "Requirement already satisfied: orjson<4.0.0,>=3.9.14 in /usr/local/lib/python3.11/dist-packages (from langsmith<0.4,>=0.1.17->langchain) (3.10.18)\n",
            "Requirement already satisfied: requests-toolbelt<2.0.0,>=1.0.0 in /usr/local/lib/python3.11/dist-packages (from langsmith<0.4,>=0.1.17->langchain) (1.0.0)\n",
            "Requirement already satisfied: zstandard<0.24.0,>=0.23.0 in /usr/local/lib/python3.11/dist-packages (from langsmith<0.4,>=0.1.17->langchain) (0.23.0)\n",
            "Requirement already satisfied: annotated-types>=0.6.0 in /usr/local/lib/python3.11/dist-packages (from pydantic<3.0.0,>=2.7.4->langchain) (0.7.0)\n",
            "Requirement already satisfied: pydantic-core==2.33.2 in /usr/local/lib/python3.11/dist-packages (from pydantic<3.0.0,>=2.7.4->langchain) (2.33.2)\n",
            "Requirement already satisfied: typing-inspection>=0.4.0 in /usr/local/lib/python3.11/dist-packages (from pydantic<3.0.0,>=2.7.4->langchain) (0.4.1)\n",
            "Requirement already satisfied: charset-normalizer<4,>=2 in /usr/local/lib/python3.11/dist-packages (from requests<3,>=2->langchain) (3.4.2)\n",
            "Requirement already satisfied: idna<4,>=2.5 in /usr/local/lib/python3.11/dist-packages (from requests<3,>=2->langchain) (3.10)\n",
            "Requirement already satisfied: urllib3<3,>=1.21.1 in /usr/local/lib/python3.11/dist-packages (from requests<3,>=2->langchain) (2.4.0)\n",
            "Requirement already satisfied: certifi>=2017.4.17 in /usr/local/lib/python3.11/dist-packages (from requests<3,>=2->langchain) (2025.4.26)\n",
            "Requirement already satisfied: greenlet>=1 in /usr/local/lib/python3.11/dist-packages (from SQLAlchemy<3,>=1.4->langchain) (3.2.3)\n",
            "Requirement already satisfied: anyio in /usr/local/lib/python3.11/dist-packages (from httpx<1,>=0.23.0->langsmith<0.4,>=0.1.17->langchain) (4.9.0)\n",
            "Requirement already satisfied: httpcore==1.* in /usr/local/lib/python3.11/dist-packages (from httpx<1,>=0.23.0->langsmith<0.4,>=0.1.17->langchain) (1.0.9)\n",
            "Requirement already satisfied: h11>=0.16 in /usr/local/lib/python3.11/dist-packages (from httpcore==1.*->httpx<1,>=0.23.0->langsmith<0.4,>=0.1.17->langchain) (0.16.0)\n",
            "Requirement already satisfied: jsonpointer>=1.9 in /usr/local/lib/python3.11/dist-packages (from jsonpatch<2.0,>=1.33->langchain-core<1.0.0,>=0.3.58->langchain) (3.0.0)\n",
            "Requirement already satisfied: sniffio>=1.1 in /usr/local/lib/python3.11/dist-packages (from anyio->httpx<1,>=0.23.0->langsmith<0.4,>=0.1.17->langchain) (1.3.1)\n"
          ]
        }
      ],
      "source": [
        "!pip install --upgrade langchain"
      ]
    },
    {
      "cell_type": "code",
      "source": [
        "!pip install langchain-community"
      ],
      "metadata": {
        "colab": {
          "base_uri": "https://localhost:8080/"
        },
        "id": "xLiQFvjFHXwJ",
        "outputId": "6681bd07-6c3f-4ecb-b961-d335113e26fc"
      },
      "execution_count": 4,
      "outputs": [
        {
          "output_type": "stream",
          "name": "stdout",
          "text": [
            "Requirement already satisfied: langchain-community in /usr/local/lib/python3.11/dist-packages (0.3.25)\n",
            "Requirement already satisfied: langchain-core<1.0.0,>=0.3.65 in /usr/local/lib/python3.11/dist-packages (from langchain-community) (0.3.65)\n",
            "Requirement already satisfied: langchain<1.0.0,>=0.3.25 in /usr/local/lib/python3.11/dist-packages (from langchain-community) (0.3.25)\n",
            "Requirement already satisfied: SQLAlchemy<3,>=1.4 in /usr/local/lib/python3.11/dist-packages (from langchain-community) (2.0.41)\n",
            "Requirement already satisfied: requests<3,>=2 in /usr/local/lib/python3.11/dist-packages (from langchain-community) (2.32.3)\n",
            "Requirement already satisfied: PyYAML>=5.3 in /usr/local/lib/python3.11/dist-packages (from langchain-community) (6.0.2)\n",
            "Requirement already satisfied: aiohttp<4.0.0,>=3.8.3 in /usr/local/lib/python3.11/dist-packages (from langchain-community) (3.11.15)\n",
            "Requirement already satisfied: tenacity!=8.4.0,<10,>=8.1.0 in /usr/local/lib/python3.11/dist-packages (from langchain-community) (9.1.2)\n",
            "Requirement already satisfied: dataclasses-json<0.7,>=0.5.7 in /usr/local/lib/python3.11/dist-packages (from langchain-community) (0.6.7)\n",
            "Requirement already satisfied: pydantic-settings<3.0.0,>=2.4.0 in /usr/local/lib/python3.11/dist-packages (from langchain-community) (2.9.1)\n",
            "Requirement already satisfied: langsmith<0.4,>=0.1.125 in /usr/local/lib/python3.11/dist-packages (from langchain-community) (0.3.45)\n",
            "Requirement already satisfied: httpx-sse<1.0.0,>=0.4.0 in /usr/local/lib/python3.11/dist-packages (from langchain-community) (0.4.0)\n",
            "Requirement already satisfied: numpy>=1.26.2 in /usr/local/lib/python3.11/dist-packages (from langchain-community) (2.0.2)\n",
            "Requirement already satisfied: aiohappyeyeballs>=2.3.0 in /usr/local/lib/python3.11/dist-packages (from aiohttp<4.0.0,>=3.8.3->langchain-community) (2.6.1)\n",
            "Requirement already satisfied: aiosignal>=1.1.2 in /usr/local/lib/python3.11/dist-packages (from aiohttp<4.0.0,>=3.8.3->langchain-community) (1.3.2)\n",
            "Requirement already satisfied: attrs>=17.3.0 in /usr/local/lib/python3.11/dist-packages (from aiohttp<4.0.0,>=3.8.3->langchain-community) (25.3.0)\n",
            "Requirement already satisfied: frozenlist>=1.1.1 in /usr/local/lib/python3.11/dist-packages (from aiohttp<4.0.0,>=3.8.3->langchain-community) (1.7.0)\n",
            "Requirement already satisfied: multidict<7.0,>=4.5 in /usr/local/lib/python3.11/dist-packages (from aiohttp<4.0.0,>=3.8.3->langchain-community) (6.4.4)\n",
            "Requirement already satisfied: propcache>=0.2.0 in /usr/local/lib/python3.11/dist-packages (from aiohttp<4.0.0,>=3.8.3->langchain-community) (0.3.2)\n",
            "Requirement already satisfied: yarl<2.0,>=1.17.0 in /usr/local/lib/python3.11/dist-packages (from aiohttp<4.0.0,>=3.8.3->langchain-community) (1.20.1)\n",
            "Requirement already satisfied: marshmallow<4.0.0,>=3.18.0 in /usr/local/lib/python3.11/dist-packages (from dataclasses-json<0.7,>=0.5.7->langchain-community) (3.26.1)\n",
            "Requirement already satisfied: typing-inspect<1,>=0.4.0 in /usr/local/lib/python3.11/dist-packages (from dataclasses-json<0.7,>=0.5.7->langchain-community) (0.9.0)\n",
            "Requirement already satisfied: langchain-text-splitters<1.0.0,>=0.3.8 in /usr/local/lib/python3.11/dist-packages (from langchain<1.0.0,>=0.3.25->langchain-community) (0.3.8)\n",
            "Requirement already satisfied: pydantic<3.0.0,>=2.7.4 in /usr/local/lib/python3.11/dist-packages (from langchain<1.0.0,>=0.3.25->langchain-community) (2.11.5)\n",
            "Requirement already satisfied: jsonpatch<2.0,>=1.33 in /usr/local/lib/python3.11/dist-packages (from langchain-core<1.0.0,>=0.3.65->langchain-community) (1.33)\n",
            "Requirement already satisfied: packaging<25,>=23.2 in /usr/local/lib/python3.11/dist-packages (from langchain-core<1.0.0,>=0.3.65->langchain-community) (24.2)\n",
            "Requirement already satisfied: typing-extensions>=4.7 in /usr/local/lib/python3.11/dist-packages (from langchain-core<1.0.0,>=0.3.65->langchain-community) (4.14.0)\n",
            "Requirement already satisfied: httpx<1,>=0.23.0 in /usr/local/lib/python3.11/dist-packages (from langsmith<0.4,>=0.1.125->langchain-community) (0.28.1)\n",
            "Requirement already satisfied: orjson<4.0.0,>=3.9.14 in /usr/local/lib/python3.11/dist-packages (from langsmith<0.4,>=0.1.125->langchain-community) (3.10.18)\n",
            "Requirement already satisfied: requests-toolbelt<2.0.0,>=1.0.0 in /usr/local/lib/python3.11/dist-packages (from langsmith<0.4,>=0.1.125->langchain-community) (1.0.0)\n",
            "Requirement already satisfied: zstandard<0.24.0,>=0.23.0 in /usr/local/lib/python3.11/dist-packages (from langsmith<0.4,>=0.1.125->langchain-community) (0.23.0)\n",
            "Requirement already satisfied: python-dotenv>=0.21.0 in /usr/local/lib/python3.11/dist-packages (from pydantic-settings<3.0.0,>=2.4.0->langchain-community) (1.1.0)\n",
            "Requirement already satisfied: typing-inspection>=0.4.0 in /usr/local/lib/python3.11/dist-packages (from pydantic-settings<3.0.0,>=2.4.0->langchain-community) (0.4.1)\n",
            "Requirement already satisfied: charset-normalizer<4,>=2 in /usr/local/lib/python3.11/dist-packages (from requests<3,>=2->langchain-community) (3.4.2)\n",
            "Requirement already satisfied: idna<4,>=2.5 in /usr/local/lib/python3.11/dist-packages (from requests<3,>=2->langchain-community) (3.10)\n",
            "Requirement already satisfied: urllib3<3,>=1.21.1 in /usr/local/lib/python3.11/dist-packages (from requests<3,>=2->langchain-community) (2.4.0)\n",
            "Requirement already satisfied: certifi>=2017.4.17 in /usr/local/lib/python3.11/dist-packages (from requests<3,>=2->langchain-community) (2025.4.26)\n",
            "Requirement already satisfied: greenlet>=1 in /usr/local/lib/python3.11/dist-packages (from SQLAlchemy<3,>=1.4->langchain-community) (3.2.3)\n",
            "Requirement already satisfied: anyio in /usr/local/lib/python3.11/dist-packages (from httpx<1,>=0.23.0->langsmith<0.4,>=0.1.125->langchain-community) (4.9.0)\n",
            "Requirement already satisfied: httpcore==1.* in /usr/local/lib/python3.11/dist-packages (from httpx<1,>=0.23.0->langsmith<0.4,>=0.1.125->langchain-community) (1.0.9)\n",
            "Requirement already satisfied: h11>=0.16 in /usr/local/lib/python3.11/dist-packages (from httpcore==1.*->httpx<1,>=0.23.0->langsmith<0.4,>=0.1.125->langchain-community) (0.16.0)\n",
            "Requirement already satisfied: jsonpointer>=1.9 in /usr/local/lib/python3.11/dist-packages (from jsonpatch<2.0,>=1.33->langchain-core<1.0.0,>=0.3.65->langchain-community) (3.0.0)\n",
            "Requirement already satisfied: annotated-types>=0.6.0 in /usr/local/lib/python3.11/dist-packages (from pydantic<3.0.0,>=2.7.4->langchain<1.0.0,>=0.3.25->langchain-community) (0.7.0)\n",
            "Requirement already satisfied: pydantic-core==2.33.2 in /usr/local/lib/python3.11/dist-packages (from pydantic<3.0.0,>=2.7.4->langchain<1.0.0,>=0.3.25->langchain-community) (2.33.2)\n",
            "Requirement already satisfied: mypy-extensions>=0.3.0 in /usr/local/lib/python3.11/dist-packages (from typing-inspect<1,>=0.4.0->dataclasses-json<0.7,>=0.5.7->langchain-community) (1.1.0)\n",
            "Requirement already satisfied: sniffio>=1.1 in /usr/local/lib/python3.11/dist-packages (from anyio->httpx<1,>=0.23.0->langsmith<0.4,>=0.1.125->langchain-community) (1.3.1)\n"
          ]
        }
      ]
    },
    {
      "cell_type": "code",
      "source": [
        "! pip install pypdf"
      ],
      "metadata": {
        "colab": {
          "base_uri": "https://localhost:8080/"
        },
        "id": "54ZxO6gFHcr0",
        "outputId": "18022a8c-a255-439f-b6fe-f6018fa56037"
      },
      "execution_count": 5,
      "outputs": [
        {
          "output_type": "stream",
          "name": "stdout",
          "text": [
            "Requirement already satisfied: pypdf in /usr/local/lib/python3.11/dist-packages (5.6.0)\n"
          ]
        }
      ]
    },
    {
      "cell_type": "code",
      "source": [
        "! pip install openai\n",
        "! pip install tiktoken\n",
        "!pip install langchain-community langchain-core\n"
      ],
      "metadata": {
        "colab": {
          "base_uri": "https://localhost:8080/"
        },
        "id": "jpa9I7duHfpP",
        "outputId": "9417c42b-00e8-48d6-8c8d-b4f0623fcefa"
      },
      "execution_count": 6,
      "outputs": [
        {
          "output_type": "stream",
          "name": "stdout",
          "text": [
            "Requirement already satisfied: openai in /usr/local/lib/python3.11/dist-packages (1.86.0)\n",
            "Requirement already satisfied: anyio<5,>=3.5.0 in /usr/local/lib/python3.11/dist-packages (from openai) (4.9.0)\n",
            "Requirement already satisfied: distro<2,>=1.7.0 in /usr/local/lib/python3.11/dist-packages (from openai) (1.9.0)\n",
            "Requirement already satisfied: httpx<1,>=0.23.0 in /usr/local/lib/python3.11/dist-packages (from openai) (0.28.1)\n",
            "Requirement already satisfied: jiter<1,>=0.4.0 in /usr/local/lib/python3.11/dist-packages (from openai) (0.10.0)\n",
            "Requirement already satisfied: pydantic<3,>=1.9.0 in /usr/local/lib/python3.11/dist-packages (from openai) (2.11.5)\n",
            "Requirement already satisfied: sniffio in /usr/local/lib/python3.11/dist-packages (from openai) (1.3.1)\n",
            "Requirement already satisfied: tqdm>4 in /usr/local/lib/python3.11/dist-packages (from openai) (4.67.1)\n",
            "Requirement already satisfied: typing-extensions<5,>=4.11 in /usr/local/lib/python3.11/dist-packages (from openai) (4.14.0)\n",
            "Requirement already satisfied: idna>=2.8 in /usr/local/lib/python3.11/dist-packages (from anyio<5,>=3.5.0->openai) (3.10)\n",
            "Requirement already satisfied: certifi in /usr/local/lib/python3.11/dist-packages (from httpx<1,>=0.23.0->openai) (2025.4.26)\n",
            "Requirement already satisfied: httpcore==1.* in /usr/local/lib/python3.11/dist-packages (from httpx<1,>=0.23.0->openai) (1.0.9)\n",
            "Requirement already satisfied: h11>=0.16 in /usr/local/lib/python3.11/dist-packages (from httpcore==1.*->httpx<1,>=0.23.0->openai) (0.16.0)\n",
            "Requirement already satisfied: annotated-types>=0.6.0 in /usr/local/lib/python3.11/dist-packages (from pydantic<3,>=1.9.0->openai) (0.7.0)\n",
            "Requirement already satisfied: pydantic-core==2.33.2 in /usr/local/lib/python3.11/dist-packages (from pydantic<3,>=1.9.0->openai) (2.33.2)\n",
            "Requirement already satisfied: typing-inspection>=0.4.0 in /usr/local/lib/python3.11/dist-packages (from pydantic<3,>=1.9.0->openai) (0.4.1)\n",
            "Requirement already satisfied: tiktoken in /usr/local/lib/python3.11/dist-packages (0.9.0)\n",
            "Requirement already satisfied: regex>=2022.1.18 in /usr/local/lib/python3.11/dist-packages (from tiktoken) (2024.11.6)\n",
            "Requirement already satisfied: requests>=2.26.0 in /usr/local/lib/python3.11/dist-packages (from tiktoken) (2.32.3)\n",
            "Requirement already satisfied: charset-normalizer<4,>=2 in /usr/local/lib/python3.11/dist-packages (from requests>=2.26.0->tiktoken) (3.4.2)\n",
            "Requirement already satisfied: idna<4,>=2.5 in /usr/local/lib/python3.11/dist-packages (from requests>=2.26.0->tiktoken) (3.10)\n",
            "Requirement already satisfied: urllib3<3,>=1.21.1 in /usr/local/lib/python3.11/dist-packages (from requests>=2.26.0->tiktoken) (2.4.0)\n",
            "Requirement already satisfied: certifi>=2017.4.17 in /usr/local/lib/python3.11/dist-packages (from requests>=2.26.0->tiktoken) (2025.4.26)\n",
            "Requirement already satisfied: langchain-community in /usr/local/lib/python3.11/dist-packages (0.3.25)\n",
            "Requirement already satisfied: langchain-core in /usr/local/lib/python3.11/dist-packages (0.3.65)\n",
            "Requirement already satisfied: langchain<1.0.0,>=0.3.25 in /usr/local/lib/python3.11/dist-packages (from langchain-community) (0.3.25)\n",
            "Requirement already satisfied: SQLAlchemy<3,>=1.4 in /usr/local/lib/python3.11/dist-packages (from langchain-community) (2.0.41)\n",
            "Requirement already satisfied: requests<3,>=2 in /usr/local/lib/python3.11/dist-packages (from langchain-community) (2.32.3)\n",
            "Requirement already satisfied: PyYAML>=5.3 in /usr/local/lib/python3.11/dist-packages (from langchain-community) (6.0.2)\n",
            "Requirement already satisfied: aiohttp<4.0.0,>=3.8.3 in /usr/local/lib/python3.11/dist-packages (from langchain-community) (3.11.15)\n",
            "Requirement already satisfied: tenacity!=8.4.0,<10,>=8.1.0 in /usr/local/lib/python3.11/dist-packages (from langchain-community) (9.1.2)\n",
            "Requirement already satisfied: dataclasses-json<0.7,>=0.5.7 in /usr/local/lib/python3.11/dist-packages (from langchain-community) (0.6.7)\n",
            "Requirement already satisfied: pydantic-settings<3.0.0,>=2.4.0 in /usr/local/lib/python3.11/dist-packages (from langchain-community) (2.9.1)\n",
            "Requirement already satisfied: langsmith<0.4,>=0.1.125 in /usr/local/lib/python3.11/dist-packages (from langchain-community) (0.3.45)\n",
            "Requirement already satisfied: httpx-sse<1.0.0,>=0.4.0 in /usr/local/lib/python3.11/dist-packages (from langchain-community) (0.4.0)\n",
            "Requirement already satisfied: numpy>=1.26.2 in /usr/local/lib/python3.11/dist-packages (from langchain-community) (2.0.2)\n",
            "Requirement already satisfied: jsonpatch<2.0,>=1.33 in /usr/local/lib/python3.11/dist-packages (from langchain-core) (1.33)\n",
            "Requirement already satisfied: packaging<25,>=23.2 in /usr/local/lib/python3.11/dist-packages (from langchain-core) (24.2)\n",
            "Requirement already satisfied: typing-extensions>=4.7 in /usr/local/lib/python3.11/dist-packages (from langchain-core) (4.14.0)\n",
            "Requirement already satisfied: pydantic>=2.7.4 in /usr/local/lib/python3.11/dist-packages (from langchain-core) (2.11.5)\n",
            "Requirement already satisfied: aiohappyeyeballs>=2.3.0 in /usr/local/lib/python3.11/dist-packages (from aiohttp<4.0.0,>=3.8.3->langchain-community) (2.6.1)\n",
            "Requirement already satisfied: aiosignal>=1.1.2 in /usr/local/lib/python3.11/dist-packages (from aiohttp<4.0.0,>=3.8.3->langchain-community) (1.3.2)\n",
            "Requirement already satisfied: attrs>=17.3.0 in /usr/local/lib/python3.11/dist-packages (from aiohttp<4.0.0,>=3.8.3->langchain-community) (25.3.0)\n",
            "Requirement already satisfied: frozenlist>=1.1.1 in /usr/local/lib/python3.11/dist-packages (from aiohttp<4.0.0,>=3.8.3->langchain-community) (1.7.0)\n",
            "Requirement already satisfied: multidict<7.0,>=4.5 in /usr/local/lib/python3.11/dist-packages (from aiohttp<4.0.0,>=3.8.3->langchain-community) (6.4.4)\n",
            "Requirement already satisfied: propcache>=0.2.0 in /usr/local/lib/python3.11/dist-packages (from aiohttp<4.0.0,>=3.8.3->langchain-community) (0.3.2)\n",
            "Requirement already satisfied: yarl<2.0,>=1.17.0 in /usr/local/lib/python3.11/dist-packages (from aiohttp<4.0.0,>=3.8.3->langchain-community) (1.20.1)\n",
            "Requirement already satisfied: marshmallow<4.0.0,>=3.18.0 in /usr/local/lib/python3.11/dist-packages (from dataclasses-json<0.7,>=0.5.7->langchain-community) (3.26.1)\n",
            "Requirement already satisfied: typing-inspect<1,>=0.4.0 in /usr/local/lib/python3.11/dist-packages (from dataclasses-json<0.7,>=0.5.7->langchain-community) (0.9.0)\n",
            "Requirement already satisfied: jsonpointer>=1.9 in /usr/local/lib/python3.11/dist-packages (from jsonpatch<2.0,>=1.33->langchain-core) (3.0.0)\n",
            "Requirement already satisfied: langchain-text-splitters<1.0.0,>=0.3.8 in /usr/local/lib/python3.11/dist-packages (from langchain<1.0.0,>=0.3.25->langchain-community) (0.3.8)\n",
            "Requirement already satisfied: httpx<1,>=0.23.0 in /usr/local/lib/python3.11/dist-packages (from langsmith<0.4,>=0.1.125->langchain-community) (0.28.1)\n",
            "Requirement already satisfied: orjson<4.0.0,>=3.9.14 in /usr/local/lib/python3.11/dist-packages (from langsmith<0.4,>=0.1.125->langchain-community) (3.10.18)\n",
            "Requirement already satisfied: requests-toolbelt<2.0.0,>=1.0.0 in /usr/local/lib/python3.11/dist-packages (from langsmith<0.4,>=0.1.125->langchain-community) (1.0.0)\n",
            "Requirement already satisfied: zstandard<0.24.0,>=0.23.0 in /usr/local/lib/python3.11/dist-packages (from langsmith<0.4,>=0.1.125->langchain-community) (0.23.0)\n",
            "Requirement already satisfied: annotated-types>=0.6.0 in /usr/local/lib/python3.11/dist-packages (from pydantic>=2.7.4->langchain-core) (0.7.0)\n",
            "Requirement already satisfied: pydantic-core==2.33.2 in /usr/local/lib/python3.11/dist-packages (from pydantic>=2.7.4->langchain-core) (2.33.2)\n",
            "Requirement already satisfied: typing-inspection>=0.4.0 in /usr/local/lib/python3.11/dist-packages (from pydantic>=2.7.4->langchain-core) (0.4.1)\n",
            "Requirement already satisfied: python-dotenv>=0.21.0 in /usr/local/lib/python3.11/dist-packages (from pydantic-settings<3.0.0,>=2.4.0->langchain-community) (1.1.0)\n",
            "Requirement already satisfied: charset-normalizer<4,>=2 in /usr/local/lib/python3.11/dist-packages (from requests<3,>=2->langchain-community) (3.4.2)\n",
            "Requirement already satisfied: idna<4,>=2.5 in /usr/local/lib/python3.11/dist-packages (from requests<3,>=2->langchain-community) (3.10)\n",
            "Requirement already satisfied: urllib3<3,>=1.21.1 in /usr/local/lib/python3.11/dist-packages (from requests<3,>=2->langchain-community) (2.4.0)\n",
            "Requirement already satisfied: certifi>=2017.4.17 in /usr/local/lib/python3.11/dist-packages (from requests<3,>=2->langchain-community) (2025.4.26)\n",
            "Requirement already satisfied: greenlet>=1 in /usr/local/lib/python3.11/dist-packages (from SQLAlchemy<3,>=1.4->langchain-community) (3.2.3)\n",
            "Requirement already satisfied: anyio in /usr/local/lib/python3.11/dist-packages (from httpx<1,>=0.23.0->langsmith<0.4,>=0.1.125->langchain-community) (4.9.0)\n",
            "Requirement already satisfied: httpcore==1.* in /usr/local/lib/python3.11/dist-packages (from httpx<1,>=0.23.0->langsmith<0.4,>=0.1.125->langchain-community) (1.0.9)\n",
            "Requirement already satisfied: h11>=0.16 in /usr/local/lib/python3.11/dist-packages (from httpcore==1.*->httpx<1,>=0.23.0->langsmith<0.4,>=0.1.125->langchain-community) (0.16.0)\n",
            "Requirement already satisfied: mypy-extensions>=0.3.0 in /usr/local/lib/python3.11/dist-packages (from typing-inspect<1,>=0.4.0->dataclasses-json<0.7,>=0.5.7->langchain-community) (1.1.0)\n",
            "Requirement already satisfied: sniffio>=1.1 in /usr/local/lib/python3.11/dist-packages (from anyio->httpx<1,>=0.23.0->langsmith<0.4,>=0.1.125->langchain-community) (1.3.1)\n"
          ]
        }
      ]
    },
    {
      "cell_type": "code",
      "source": [
        "!pip install config"
      ],
      "metadata": {
        "colab": {
          "base_uri": "https://localhost:8080/"
        },
        "id": "EtcTcSdBI_Au",
        "outputId": "8f2ba065-1160-42f3-f70a-a51badb94c16"
      },
      "execution_count": 7,
      "outputs": [
        {
          "output_type": "stream",
          "name": "stdout",
          "text": [
            "Requirement already satisfied: config in /usr/local/lib/python3.11/dist-packages (0.5.1)\n"
          ]
        }
      ]
    },
    {
      "cell_type": "code",
      "source": [
        "import config\n",
        "import openai\n",
        "from langchain_community.embeddings import OpenAIEmbeddings\n",
        "import tiktoken"
      ],
      "metadata": {
        "id": "jZUj5eRoI7NG"
      },
      "execution_count": 8,
      "outputs": []
    },
    {
      "cell_type": "code",
      "source": [
        "embedding = OpenAIEmbeddings(api_key=config.API_KEY)"
      ],
      "metadata": {
        "colab": {
          "base_uri": "https://localhost:8080/"
        },
        "id": "r2g2ATj_MFmK",
        "outputId": "2933b974-428d-4317-dd30-c007e31a4172"
      },
      "execution_count": 9,
      "outputs": [
        {
          "output_type": "stream",
          "name": "stderr",
          "text": [
            "<ipython-input-9-2102901832>:1: LangChainDeprecationWarning: The class `OpenAIEmbeddings` was deprecated in LangChain 0.0.9 and will be removed in 1.0. An updated version of the class exists in the :class:`~langchain-openai package and should be used instead. To use it run `pip install -U :class:`~langchain-openai` and import as `from :class:`~langchain_openai import OpenAIEmbeddings``.\n",
            "  embedding = OpenAIEmbeddings(api_key=config.API_KEY)\n"
          ]
        }
      ]
    },
    {
      "cell_type": "code",
      "source": [
        "from langchain.document_loaders import PyPDFLoader\n",
        "loader = PyPDFLoader(\"/content/India-Leaves and Holiday Policy-042624.pdf\")\n",
        "pages = loader.load()"
      ],
      "metadata": {
        "id": "-_5rDj-MP1CJ"
      },
      "execution_count": 10,
      "outputs": []
    },
    {
      "cell_type": "code",
      "source": [
        "pages"
      ],
      "metadata": {
        "colab": {
          "base_uri": "https://localhost:8080/"
        },
        "id": "QfQ9Upo12A6X",
        "outputId": "4bf5a65a-cbc4-4029-b204-0dc060dcc3d6"
      },
      "execution_count": 23,
      "outputs": [
        {
          "output_type": "execute_result",
          "data": {
            "text/plain": [
              "[Document(metadata={'producer': 'Acrobat PDFMaker 15 for Word', 'creator': 'Word', 'creationdate': '2018-09-14T16:05:57+00:00', 'author': 'Alison MacDonald', 'keywords': '', 'moddate': '2024-04-25T13:18:25+05:30', 'subject': '', 'title': 'India Leaves and Holiday Policy', 'source': '/content/India-Leaves and Holiday Policy-042624.pdf', 'total_pages': 5, 'page': 0, 'page_label': '1'}, page_content='Leave & Holidays Program – India \\nIntroduction \\nThis program document may be modified, revised, discontinued or amended at any time, in whole or in part, \\nfor any reason and without prior notice, consent or approval within the sole discretion of Adobe-India. This \\nprogram document contains proprietary and confidential information. It is solely for use by and distribution to \\nthe individuals who are subject to this program. \\nThe information provided in this publication is for information purposes only and does not constitute a \\ncontract of employment. \\nEligibility \\nTo apply for a leave of absence, you must be a salaried employee. Interns, temporary and seasonal employees, \\nindividuals who perform services as a contractor to Adobe-India are not eligible to participate. \\n1. National / Festival holidays\\nIn keeping with the National and Festival Holidays Act, India employees will be paid 10 days per calendar \\nyear as holidays. This will be as-per a pre-published holiday calendar. For further information, employees \\ncan access the Global Holiday Calendar via this link: https://benefits.adobe.com/in/time-off/vacation-\\nand-national-holidays \\n2. Paid Time Off (PTO)\\nThe Company provides the following leave for all regular employees. \\nVacation Leave \\nCasual Leave \\nSick Leave \\nCompany Break Period \\n3. Vacation Leave\\nIndia employees will be provided with 1.25 Vacation Leaves every month (15 days of annual leave per calendar \\nyear). Any unused vacation leaves will carry over to the next calendar year up to a maximum of 45 days. Once it \\nreaches this number, there will be no further accrual of leaves. The approval and scheduling of such time off will \\nbe subject to prior Manager Approval and business needs. Employees can have a vacation leave balance of up to \\n-10, in which case, the balance will be set off with the future leaves credited to the employee.\\nUpon termination of employment, any remaining balance of vacation leave shall be encashed to the exiting \\nemployee. All vacation leave/annual leave will be paid out to the exiting employee at the employee’s fixed salary \\nrate at the time of exit. \\nFor all international transfers, the unused leaves will be paid to the employees. No leaves are carried forward to \\nthe new country.  Employees can apply for leaves through\\n Workday \\n4. Casual Leave\\nAdobe will provide India employees with 8 days of paid casual time off, per calendar year. Any unused casual \\nleave will lapse at the end of the calendar year. Employees can apply for leaves through Work Day Workday \\n5. Sick Leave\\nAdobe will provide India employees up to 10 days of paid sick time per calendar year. Employees availing sick \\nleave must inform their manager no later than the time they are scheduled to start work that day. Any sick time-\\noff taken in excess of an employee’s paid sick time can be availed from casual/ vacation leave on prior approval. \\nEmployees can apply for leaves through Work Day Workday \\nCompany Break Period/ Winter Break'),\n",
              " Document(metadata={'producer': 'Acrobat PDFMaker 15 for Word', 'creator': 'Word', 'creationdate': '2018-09-14T16:05:57+00:00', 'author': 'Alison MacDonald', 'keywords': '', 'moddate': '2024-04-25T13:18:25+05:30', 'subject': '', 'title': 'India Leaves and Holiday Policy', 'source': '/content/India-Leaves and Holiday Policy-042624.pdf', 'total_pages': 5, 'page': 1, 'page_label': '2'}, page_content='There would be a Winter Break for India employee , and 5 days of  casual time-off will be deducted to provide \\npayment of regular wages during the break. If an India employee does not have any casual time-off available to \\nthem at the time of the Winter Break, then the 5 days would be deducted from their vacation leave/annual leave \\nbalance. These deductions will be automatic, and the employee does not need to file leaves for the same. \\nLEAVE WITHOUT PAY (LWP) \\nAll India employees are eligible for leave without pay described below at the discretion of the employee’s ground \\nbusiness leader after taking into account client service needs, office operations and any other such factor that \\nimpacts the business. Adobe - India will make every effort consistent with good busi ness practice to grant \\nrequests for such unpaid personal leave. \\nHowever, there may be situations where it cannot be granted due to client service or business needs. \\nIn order to participate in any of the leaves below you must first exhaust any accrued PTO. \\nDuring the period of LWP, the employee will not receive any compensation but will continue to be eligible for \\nall other benefits. Also, employees on LWP will not earn any PTO credit for the unpaid personal leave period. \\nIn case the LWP extends beyond 30 calendar days, it will be considered as Leave of Absence, wherein \\nemployees will not be eligible for any benefits except insurance. At the end of 30 calendar days of LWP, if the \\nemployee does not return to work upon completion of the leave, he/she shall be considered to have voluntarily \\nresigned as of the last day of work unless the employee has obtained approval for availing Leave of Absence. \\nEmployee will not be paid for National Festivals/Holidays that occur during his/her LWP period. Employees \\nmust seek approval from their Manager before availing LWP. Once the approval is obtained, employees can \\napply for leaves through Work Day Workday \\nBEREAVEMENT LEAVE \\nThe Company recognizes that employees may need time off following the death of a family member. The \\nCompany will provide for 20 days of bereavement leave with pay in the event of the death: \\nSpouse/common law partner, parents, siblings and children, Spouse/common law partner’s parents, siblings \\nand children, Grandparents, Grandchildren \\nEmployee needs to notify his/her Manager immediately if he/she takes a bereavement leave. The employee \\nalso would need to give his/her contact details to the Manager so that Manager can contact the employee \\nduring the absence in case of an emergency. Employees can apply for leaves through Work Day\\n Workday \\nSABBATICAL PLAN \\nPlease read details on the Sabbatical Plan through this link: \\nhttps://benefits.adobe.com/in/time-off/sabbatical \\nLEAVE OF ABSENCE (Medical LOA, Personal LOA) \\nAll regular employees are eligible for this program \\nFor availing the Leave of Absence Program, the employee should request written approval of the manager. \\nOnce approved, Employees can apply for leaves through Work Day Workday The Manager will need to discuss \\nwith the Group Head and People Resources Business Partner and approve the Leave of Absence as \\nappropriate. \\n• During the period of unpaid LOA, the employee will not receive any compensation.'),\n",
              " Document(metadata={'producer': 'Acrobat PDFMaker 15 for Word', 'creator': 'Word', 'creationdate': '2018-09-14T16:05:57+00:00', 'author': 'Alison MacDonald', 'keywords': '', 'moddate': '2024-04-25T13:18:25+05:30', 'subject': '', 'title': 'India Leaves and Holiday Policy', 'source': '/content/India-Leaves and Holiday Policy-042624.pdf', 'total_pages': 5, 'page': 2, 'page_label': '3'}, page_content='• Employee shall only be eligible for all insurance during LOA. When the employee returns to work on the first\\nworking day after his / her leave has expired, he / she shall not service credit for the entire leave period over\\nand above the first 30 days. If the employee does not return to work upon completion of the leave, he/she\\nshall be considered to have voluntarily resigned as of last day of work unless under justifiable circumstances.\\n• Upon the return to work, Adobe shall make every effort to reinstate the employee in his / her present\\nposition or in an equivalent or comparable position in the Company and at a salary that is not less than his/\\nher last drawn salary prior to the employee’s leave. However, Adobe cannot guarantee employee’s job while\\nhe/she is on a Leave of Absence.\\n• Business conditions may necessitate Adobe filling employee’s position. This will depend upon the business\\nrequirements of the Company. During the period of the employee’s absence, his/her obligations under the\\n“confidential information and intellectual property agreement”  with Adobe will continue to be in effect.\\nEmployee should not be involved in employment that would constitute a conflict of interest.\\nMEDICAL LEAVE OF ABSENCE \\n• Employee will need to request Medical Leave of Absence if an illness, surgery or other medical event keeps \\nthe employee away from work longer than 10 consecutive business days. The first ten days off from \\nwork shall be deducted from the employee’s Personal Time Off/Sick leave.\\n• When the employee requests for the leave on medical grounds (eg: to recoup after major illness or for th \\ne postnatal care), Manager will need to approve leave post consultation with the Group Head and \\nBusiness Partner.\\n• The effective date of the employee’s Medical Leave would be the date when the doctor advises him/her not to \\nwork. Medical Leave would be granted for period that is medically necessary, as documented \\nby the physician for the employee to be away from work.\\n• This period would be a maximum of 12 months from the onset of the illness, surgery, disability \\nor other medical event.\\n• If the employee is not returning to work after a total of 12 months of disability, his/her employment \\nwith Adobe shall terminate at the end of the 12-month period.\\n• Any extension of leave so granted is subject to approval from the Managing Director/Sr Director.\\n• To apply for Medical Leave, the employee will need Manager’s approval on email and once \\napproval is obtained, Employees can apply for leaves through Work Day Workday\\n• The manager will need to ensure that a certification of disability (signed by his/her doctor, certifying illness \\nand the expected duration of disability) is submitted by the employee.\\n• Recurrent Disability - Successive periods of Medical Leave shall be considered one period of Medical Leave, \\nas long as it results from related causes and is separated by a return to work of less than six months. In such a \\ncase, the employee will not have to use his/her PTO, again for the first week of a recurrent disability. For \\nexample, if the employee is on disability leave for a total of ten months and returns to \\nwork after four months, again goes out on a Medical Leave for the same or a related cause, then the \\nemployee shal l have two months available for his/her Medical Leave of Absence.\\n• If the employee’s disability continues beyond twelve months, his/her employment with Adobe will end.\\n• Extension of Medical Leave of Absence- While the employee is on Medical Leave, it is suggested to \\nbe in touch with his/her Manager and the ERC regarding the status of his/her return. If employee’s \\ndoctor does not permit to return to work on the expected return date, the employee must provide ERC via the \\nNew Support Center with a statement certifying his/her inability to return to work. The statement will \\nindicate the new expected date of return  to work. Also, this statement must be provided on /before \\nthe original anticipated date of return. Failure to return to work within three days of the expected dat e \\nof return shall normally be deemed as a resignation from the employment by the employee and Adobe \\nshall terminate the employee.'),\n",
              " Document(metadata={'producer': 'Acrobat PDFMaker 15 for Word', 'creator': 'Word', 'creationdate': '2018-09-14T16:05:57+00:00', 'author': 'Alison MacDonald', 'keywords': '', 'moddate': '2024-04-25T13:18:25+05:30', 'subject': '', 'title': 'India Leaves and Holiday Policy', 'source': '/content/India-Leaves and Holiday Policy-042624.pdf', 'total_pages': 5, 'page': 3, 'page_label': '4'}, page_content='• Returning to work from medical leave of absence- When the employee returns to work, he/she will need\\nto provide his/her Manager and ERC via the New Support Center with the doctor’s release statement\\nbefore he/she is allowed to return to work. This note will need to include any limitations or restrictions\\non the employee’s ability to execute his/her job and the estimated duration of those limitations. If\\nnecessary, the employee and his/her doctor are encouraged to provide recommendations regarding the\\nsteps Adobe can take to reasonably accommodate any medical limitations the employee may have. The\\nERC team shall work with the employee and his/her doctor on whether the accommodation can be\\nmade and shall make the determination of what is appropriate and reasonable. Upon the employee’s\\nreturn from leave, he/she shall be reinstated to his/her original or a substantially comparable position and\\nshall receive pay and benefits equivalent to those received prior to the Medical Leave. If his/her former\\nor comparable position is not available due to business reasons, he/she may be eligible to receive\\ncompensation and benefits in lieu of and depending upon the business circumstances that necessitated\\nhis/her job elimination.\\n• While on Leave, the employee needs to be in contact with his/her Manager to know if the former position\\nor a comparably similar position is available.\\n• If the employee’s doctor suggests that he/she should work on part-time basis return to work, then the\\ndoctor must certify the number of hours the employee must work each day. The certification should also\\ninclude any such restriction that shall affect the employee’s job and the estimated duration of these\\nrestrictions.\\nPERSONAL LEAVE OF ABSENCE \\nLeave without Pay for more than 30 calendar days is considered as Personal Leave of Absence. Group \\nHead (Dir/Dir+) level approval is required for LOA. LOA impacts: \\n• If any full time regular employee wishes to take time away from Adobe for educational pursuits, extended \\nvacations or other personal reasons, he/she is eligible to request an unpaid Personal Leave of Absence.\\n• If granted,you may take between 1 to 3 months of unpaid leave. The amount of time approved is subject to \\nyour manager’s discretion and the needs of the business. A onetime extension of up to 3 months may also \\nbe granted upon approval. With the approved extension, this means the total unpaid personal leave \\ncannot exceed 6 months.  \\n• During the period of unpaid personal leave, the employee will not receive any compensation.\\n• Personal Leave of Absence will be granted subject to completion of 365 days of continuous service with the \\nCompany He/she may be granted Personal Leave of Absence, if he/she is an employee in good standing, as \\ndetermined by Adobe, and the business conditions can accommodate his/her request. Any deviation from \\nthis clause will be subject to approval from the Managing Director/Senior Director\\n• The employee will need approval from manager and once approved, Employees can apply for leaves through \\nWork Day Workday before the leave is to begin.\\nReturning from a personal leave- Upon return to work, Adobe shall make every effort to reinstate the \\nemployee in his/her present position or in an equivalent or comparable position in the Company and at a \\nsalary that is not less than the employee’s last drawn salary prior to the leave. However, Adobe cannot \\nguarantee job while is on a Personal Leave of Absence. The employee will need to stay in touch with his/her \\nManager and the ERC team via the New Support Center. \\nIf the employee’s position is filled during the period he/she is on leave, the employee can apply for another \\nposition within the Company, however will need to compete with other equally qualified active employees. If \\nat the end of the employee’s scheduled Personal Leave of Absence his/her position is filled, then the \\nemployee’s employment at Adobe will be terminated. \\nIf the employee is on an approved Personal Leave of Absence, and accepts a position in another Company, \\nhe/she shall be deemed to have voluntarily resigned from his/her employment with Adobe. \\nRequest for Personal Leave of Absence is reviewed on a case-to-case basis and is dependent on the discretion \\nof the management team and HRBP. \\nEmployee shall not be paid for any for National /Festival holidays that fall during the personal leave of \\nabsence.'),\n",
              " Document(metadata={'producer': 'Acrobat PDFMaker 15 for Word', 'creator': 'Word', 'creationdate': '2018-09-14T16:05:57+00:00', 'author': 'Alison MacDonald', 'keywords': '', 'moddate': '2024-04-25T13:18:25+05:30', 'subject': '', 'title': 'India Leaves and Holiday Policy', 'source': '/content/India-Leaves and Holiday Policy-042624.pdf', 'total_pages': 5, 'page': 4, 'page_label': '5'}, page_content='PTO accrual shall be suspended for the length of employee’s unpaid leave in excess of 30 calendar days. \\nLOA impacts, AIP, service date and sabbatical eligibility date. During Unpaid Personal LOA , insurance \\nbenefits are extended to employees upto a maximum period of 6 months, while during unpaid Medical \\nLOA, insurance benefits are extended to employees for a maximum period of 12 months.\\nThe benefits within the retirement schemes - PF and gratuity will continue during the Leave Without \\nPay. However, there shall be no contributions made to these schemes during the period. \\nSabbatical eligibility date shall be adjusted by the length of the leave over 30 calendar days. \\nEmployee Stock Purchase Plan- Any accumulated funds an employee has contributed through regular \\npayroll deductions will go towards the purchase of shares at the next purchase date provided his/her \\nemployment has not terminated. When employee returns to work at Adobe, his/her participation shall \\nresume in the offering they would be participating in if the participation has been continuous, unless \\nwithdraw from the plan. \\nNote  \\n“ As per our standard protocols we shall be sharing medical documents with our team of internal medical practitioners (or \\nconcerned third party) for further consultation & advice.” \\n“Company reserves the right to ask for supporting medical documents for any of the following leaves types (Sick \\nleave/Medical LOA, Illness arising out of pregnancy, Miscarriage.)” \\n\"You must apply all your leaves on Workday as soon as you have availed them. You will not be able to apply leaves on \\nWorkday which are older than 3 months or if the calendar year changes. Not marking time off on the system within the \\nprescribed timelines is a policy violation as it leads to incorrect leave balance & related payroll implications. Failure to \\nact in accordance with the policy guidelines and protocols may lead to disciplinary actions as appropriate, hence we \\nexpect you to adhere to the said guidelines.”')]"
            ]
          },
          "metadata": {},
          "execution_count": 23
        }
      ]
    },
    {
      "cell_type": "code",
      "source": [
        "all_text = \" \".join([doc.page_content for doc in pages])"
      ],
      "metadata": {
        "id": "c9ObP20jZoub"
      },
      "execution_count": 29,
      "outputs": []
    },
    {
      "cell_type": "code",
      "source": [
        "from langchain.text_splitter import RecursiveCharacterTextSplitter"
      ],
      "metadata": {
        "id": "-YdPjJcm2IBU"
      },
      "execution_count": 12,
      "outputs": []
    },
    {
      "cell_type": "code",
      "source": [
        "r_splitter = RecursiveCharacterTextSplitter(\n",
        "     separators=['\\n\\n', '\\n', '.' ],\n",
        "     chunk_size = 200,\n",
        "    chunk_overlap  = 0,\n",
        ")\n",
        "chunks = r_splitter.split_text(all_text)\n",
        "print(\"Chunks: \", chunks)\n",
        "print(\"Length of chunks: \", len(chunks))"
      ],
      "metadata": {
        "colab": {
          "base_uri": "https://localhost:8080/"
        },
        "id": "pV0d-V6T2MyZ",
        "outputId": "ce2763fd-2e2b-4c8b-a552-bfac3a2ba0bc"
      },
      "execution_count": 31,
      "outputs": [
        {
          "output_type": "stream",
          "name": "stdout",
          "text": [
            "Chunks:  ['Leave & Holidays Program – India \\nIntroduction \\nThis program document may be modified, revised, discontinued or amended at any time, in whole or in part,', 'for any reason and without prior notice, consent or approval within the sole discretion of Adobe-India. This', 'program document contains proprietary and confidential information. It is solely for use by and distribution to \\nthe individuals who are subject to this program.', 'The information provided in this publication is for information purposes only and does not constitute a \\ncontract of employment. \\nEligibility', 'To apply for a leave of absence, you must be a salaried employee. Interns, temporary and seasonal employees,', 'individuals who perform services as a contractor to Adobe-India are not eligible to participate. \\n1. National / Festival holidays', 'In keeping with the National and Festival Holidays Act, India employees will be paid 10 days per calendar', 'year as holidays. This will be as-per a pre-published holiday calendar. For further information, employees', 'can access the Global Holiday Calendar via this link: https://benefits.adobe.com/in/time-off/vacation-\\nand-national-holidays \\n2. Paid Time Off (PTO)', 'The Company provides the following leave for all regular employees. \\nVacation Leave \\nCasual Leave \\nSick Leave \\nCompany Break Period \\n3. Vacation Leave', 'India employees will be provided with 1.25 Vacation Leaves every month (15 days of annual leave per calendar', 'year). Any unused vacation leaves will carry over to the next calendar year up to a maximum of 45 days. Once it', 'reaches this number, there will be no further accrual of leaves. The approval and scheduling of such time off will', 'be subject to prior Manager Approval and business needs. Employees can have a vacation leave balance of up to', '-10, in which case, the balance will be set off with the future leaves credited to the employee.', 'Upon termination of employment, any remaining balance of vacation leave shall be encashed to the exiting', 'employee. All vacation leave/annual leave will be paid out to the exiting employee at the employee’s fixed salary \\nrate at the time of exit.', 'For all international transfers, the unused leaves will be paid to the employees. No leaves are carried forward to \\nthe new country.  Employees can apply for leaves through\\n Workday \\n4. Casual Leave', 'Adobe will provide India employees with 8 days of paid casual time off, per calendar year. Any unused casual', 'leave will lapse at the end of the calendar year. Employees can apply for leaves through Work Day Workday \\n5. Sick Leave', 'Adobe will provide India employees up to 10 days of paid sick time per calendar year. Employees availing sick', 'leave must inform their manager no later than the time they are scheduled to start work that day. Any sick time-', 'off taken in excess of an employee’s paid sick time can be availed from casual/ vacation leave on prior approval. \\nEmployees can apply for leaves through Work Day Workday', 'Company Break Period/ Winter Break There would be a Winter Break for India employee , and 5 days of  casual time-off will be deducted to provide', 'payment of regular wages during the break. If an India employee does not have any casual time-off available to', 'them at the time of the Winter Break, then the 5 days would be deducted from their vacation leave/annual leave', 'balance. These deductions will be automatic, and the employee does not need to file leaves for the same. \\nLEAVE WITHOUT PAY (LWP)', 'All India employees are eligible for leave without pay described below at the discretion of the employee’s ground', 'business leader after taking into account client service needs, office operations and any other such factor that', 'impacts the business. Adobe - India will make every effort consistent with good busi ness practice to grant \\nrequests for such unpaid personal leave.', 'However, there may be situations where it cannot be granted due to client service or business needs. \\nIn order to participate in any of the leaves below you must first exhaust any accrued PTO.', 'During the period of LWP, the employee will not receive any compensation but will continue to be eligible for', 'all other benefits. Also, employees on LWP will not earn any PTO credit for the unpaid personal leave period.', 'In case the LWP extends beyond 30 calendar days, it will be considered as Leave of Absence, wherein', 'employees will not be eligible for any benefits except insurance. At the end of 30 calendar days of LWP, if the', 'employee does not return to work upon completion of the leave, he/she shall be considered to have voluntarily', 'resigned as of the last day of work unless the employee has obtained approval for availing Leave of Absence.', 'Employee will not be paid for National Festivals/Holidays that occur during his/her LWP period. Employees', 'must seek approval from their Manager before availing LWP. Once the approval is obtained, employees can \\napply for leaves through Work Day Workday \\nBEREAVEMENT LEAVE', 'The Company recognizes that employees may need time off following the death of a family member. The \\nCompany will provide for 20 days of bereavement leave with pay in the event of the death:', 'Spouse/common law partner, parents, siblings and children, Spouse/common law partner’s parents, siblings \\nand children, Grandparents, Grandchildren', 'Employee needs to notify his/her Manager immediately if he/she takes a bereavement leave. The employee', 'also would need to give his/her contact details to the Manager so that Manager can contact the employee \\nduring the absence in case of an emergency. Employees can apply for leaves through Work Day', 'Workday \\nSABBATICAL PLAN \\nPlease read details on the Sabbatical Plan through this link: \\nhttps://benefits.adobe.com/in/time-off/sabbatical \\nLEAVE OF ABSENCE (Medical LOA, Personal LOA)', 'All regular employees are eligible for this program \\nFor availing the Leave of Absence Program, the employee should request written approval of the manager.', 'Once approved, Employees can apply for leaves through Work Day Workday The Manager will need to discuss \\nwith the Group Head and People Resources Business Partner and approve the Leave of Absence as', 'appropriate.', '• During the period of unpaid LOA, the employee will not receive any compensation. • Employee shall only be eligible for all insurance during LOA. When the employee returns to work on the first', 'working day after his / her leave has expired, he / she shall not service credit for the entire leave period over', 'and above the first 30 days. If the employee does not return to work upon completion of the leave, he/she', 'shall be considered to have voluntarily resigned as of last day of work unless under justifiable circumstances.', '• Upon the return to work, Adobe shall make every effort to reinstate the employee in his / her present', 'position or in an equivalent or comparable position in the Company and at a salary that is not less than his/', 'her last drawn salary prior to the employee’s leave. However, Adobe cannot guarantee employee’s job while\\nhe/she is on a Leave of Absence.', '• Business conditions may necessitate Adobe filling employee’s position. This will depend upon the business', 'requirements of the Company. During the period of the employee’s absence, his/her obligations under the', '“confidential information and intellectual property agreement”  with Adobe will continue to be in effect.\\nEmployee should not be involved in employment that would constitute a conflict of interest.', 'MEDICAL LEAVE OF ABSENCE \\n• Employee will need to request Medical Leave of Absence if an illness, surgery or other medical event keeps', 'the employee away from work longer than 10 consecutive business days. The first ten days off from \\nwork shall be deducted from the employee’s Personal Time Off/Sick leave.', '• When the employee requests for the leave on medical grounds (eg: to recoup after major illness or for th', 'e postnatal care), Manager will need to approve leave post consultation with the Group Head and \\nBusiness Partner.', '• The effective date of the employee’s Medical Leave would be the date when the doctor advises him/her not to', 'work. Medical Leave would be granted for period that is medically necessary, as documented \\nby the physician for the employee to be away from work.', '• This period would be a maximum of 12 months from the onset of the illness, surgery, disability \\nor other medical event.', '• If the employee is not returning to work after a total of 12 months of disability, his/her employment \\nwith Adobe shall terminate at the end of the 12-month period.', '• Any extension of leave so granted is subject to approval from the Managing Director/Sr Director.\\n• To apply for Medical Leave, the employee will need Manager’s approval on email and once', 'approval is obtained, Employees can apply for leaves through Work Day Workday\\n• The manager will need to ensure that a certification of disability (signed by his/her doctor, certifying illness', 'and the expected duration of disability) is submitted by the employee.\\n• Recurrent Disability - Successive periods of Medical Leave shall be considered one period of Medical Leave,', 'as long as it results from related causes and is separated by a return to work of less than six months. In such a', 'case, the employee will not have to use his/her PTO, again for the first week of a recurrent disability. For \\nexample, if the employee is on disability leave for a total of ten months and returns to', 'work after four months, again goes out on a Medical Leave for the same or a related cause, then the \\nemployee shal l have two months available for his/her Medical Leave of Absence.', '• If the employee’s disability continues beyond twelve months, his/her employment with Adobe will end.', '• Extension of Medical Leave of Absence- While the employee is on Medical Leave, it is suggested to', 'be in touch with his/her Manager and the ERC regarding the status of his/her return. If employee’s', 'doctor does not permit to return to work on the expected return date, the employee must provide ERC via the', 'New Support Center with a statement certifying his/her inability to return to work. The statement will', 'indicate the new expected date of return  to work. Also, this statement must be provided on /before', 'the original anticipated date of return. Failure to return to work within three days of the expected dat e', 'of return shall normally be deemed as a resignation from the employment by the employee and Adobe', 'shall terminate the employee. • Returning to work from medical leave of absence- When the employee returns to work, he/she will need', 'to provide his/her Manager and ERC via the New Support Center with the doctor’s release statement', 'before he/she is allowed to return to work. This note will need to include any limitations or restrictions', 'on the employee’s ability to execute his/her job and the estimated duration of those limitations. If\\nnecessary, the employee and his/her doctor are encouraged to provide recommendations regarding the', 'steps Adobe can take to reasonably accommodate any medical limitations the employee may have. The\\nERC team shall work with the employee and his/her doctor on whether the accommodation can be', 'made and shall make the determination of what is appropriate and reasonable. Upon the employee’s', 'return from leave, he/she shall be reinstated to his/her original or a substantially comparable position and', 'shall receive pay and benefits equivalent to those received prior to the Medical Leave. If his/her former', 'or comparable position is not available due to business reasons, he/she may be eligible to receive\\ncompensation and benefits in lieu of and depending upon the business circumstances that necessitated', 'his/her job elimination.\\n• While on Leave, the employee needs to be in contact with his/her Manager to know if the former position\\nor a comparably similar position is available.', '• If the employee’s doctor suggests that he/she should work on part-time basis return to work, then the', 'doctor must certify the number of hours the employee must work each day. The certification should also', 'include any such restriction that shall affect the employee’s job and the estimated duration of these\\nrestrictions.\\nPERSONAL LEAVE OF ABSENCE', 'Leave without Pay for more than 30 calendar days is considered as Personal Leave of Absence. Group \\nHead (Dir/Dir+) level approval is required for LOA. LOA impacts:', '• If any full time regular employee wishes to take time away from Adobe for educational pursuits, extended', 'vacations or other personal reasons, he/she is eligible to request an unpaid Personal Leave of Absence.', '• If granted,you may take between 1 to 3 months of unpaid leave. The amount of time approved is subject to', 'your manager’s discretion and the needs of the business. A onetime extension of up to 3 months may also', 'be granted upon approval. With the approved extension, this means the total unpaid personal leave \\ncannot exceed 6 months.', '• During the period of unpaid personal leave, the employee will not receive any compensation.', '• Personal Leave of Absence will be granted subject to completion of 365 days of continuous service with the', 'Company He/she may be granted Personal Leave of Absence, if he/she is an employee in good standing, as', 'determined by Adobe, and the business conditions can accommodate his/her request. Any deviation from \\nthis clause will be subject to approval from the Managing Director/Senior Director', '• The employee will need approval from manager and once approved, Employees can apply for leaves through \\nWork Day Workday before the leave is to begin.', 'Returning from a personal leave- Upon return to work, Adobe shall make every effort to reinstate the', 'employee in his/her present position or in an equivalent or comparable position in the Company and at a', 'salary that is not less than the employee’s last drawn salary prior to the leave. However, Adobe cannot', 'guarantee job while is on a Personal Leave of Absence. The employee will need to stay in touch with his/her \\nManager and the ERC team via the New Support Center.', 'If the employee’s position is filled during the period he/she is on leave, the employee can apply for another', 'position within the Company, however will need to compete with other equally qualified active employees. If', 'at the end of the employee’s scheduled Personal Leave of Absence his/her position is filled, then the \\nemployee’s employment at Adobe will be terminated.', 'If the employee is on an approved Personal Leave of Absence, and accepts a position in another Company, \\nhe/she shall be deemed to have voluntarily resigned from his/her employment with Adobe.', 'Request for Personal Leave of Absence is reviewed on a case-to-case basis and is dependent on the discretion \\nof the management team and HRBP.', 'Employee shall not be paid for any for National /Festival holidays that fall during the personal leave of', 'absence. PTO accrual shall be suspended for the length of employee’s unpaid leave in excess of 30 calendar days.', 'LOA impacts, AIP, service date and sabbatical eligibility date. During Unpaid Personal LOA , insurance', 'benefits are extended to employees upto a maximum period of 6 months, while during unpaid Medical \\nLOA, insurance benefits are extended to employees for a maximum period of 12 months.', 'The benefits within the retirement schemes - PF and gratuity will continue during the Leave Without \\nPay. However, there shall be no contributions made to these schemes during the period.', 'Sabbatical eligibility date shall be adjusted by the length of the leave over 30 calendar days. \\nEmployee Stock Purchase Plan- Any accumulated funds an employee has contributed through regular', 'payroll deductions will go towards the purchase of shares at the next purchase date provided his/her', 'employment has not terminated. When employee returns to work at Adobe, his/her participation shall', 'resume in the offering they would be participating in if the participation has been continuous, unless \\nwithdraw from the plan. \\nNote', '“ As per our standard protocols we shall be sharing medical documents with our team of internal medical practitioners (or \\nconcerned third party) for further consultation & advice.”', '“Company reserves the right to ask for supporting medical documents for any of the following leaves types (Sick \\nleave/Medical LOA, Illness arising out of pregnancy, Miscarriage.)”', '\"You must apply all your leaves on Workday as soon as you have availed them. You will not be able to apply leaves on', 'Workday which are older than 3 months or if the calendar year changes. Not marking time off on the system within the', 'prescribed timelines is a policy violation as it leads to incorrect leave balance & related payroll implications. Failure to', 'act in accordance with the policy guidelines and protocols may lead to disciplinary actions as appropriate, hence we \\nexpect you to adhere to the said guidelines.”']\n",
            "Length of chunks:  127\n"
          ]
        }
      ]
    },
    {
      "cell_type": "code",
      "source": [
        "from sklearn.feature_extraction.text import TfidfVectorizer\n",
        "from sklearn.metrics.pairwise import cosine_similarity\n",
        "import numpy as np"
      ],
      "metadata": {
        "id": "3JfLvRx5cF8E"
      },
      "execution_count": 34,
      "outputs": []
    },
    {
      "cell_type": "code",
      "source": [
        "def retrieve_with_tfidf(chunks, query, top_k=5):\n",
        "    vectorizer = TfidfVectorizer()\n",
        "    tfidf_matrix = vectorizer.fit_transform(chunks + [query])\n",
        "\n",
        "    query_vec = tfidf_matrix[-1]\n",
        "    doc_vecs = tfidf_matrix[:-1]\n",
        "\n",
        "    scores = cosine_similarity(query_vec, doc_vecs).flatten()\n",
        "    top_indices = scores.argsort()[-top_k:][::-1]\n",
        "\n",
        "    return [(chunks[i], scores[i]) for i in top_indices]"
      ],
      "metadata": {
        "id": "XbRGixRu2r4a"
      },
      "execution_count": 39,
      "outputs": []
    },
    {
      "cell_type": "code",
      "source": [
        "def retrieve_score_results(query):\n",
        "  results = retrieve_with_tfidf(chunks, query)\n",
        "  for i, (chunk, score) in enumerate(results):\n",
        "    print(f\"\\nTop {i+1} Score: {score:.2f}:\\n{chunk}\")"
      ],
      "metadata": {
        "id": "iQawy0qWb9pA"
      },
      "execution_count": 43,
      "outputs": []
    },
    {
      "cell_type": "code",
      "source": [
        "query_1 = \"How many holidays per year?\"\n",
        "retrieve_score_results(query_1)"
      ],
      "metadata": {
        "colab": {
          "base_uri": "https://localhost:8080/"
        },
        "id": "WgR__ADwcaSA",
        "outputId": "9b1a8672-32db-4c2f-acf4-9da8215b94e2"
      },
      "execution_count": 45,
      "outputs": [
        {
          "output_type": "stream",
          "name": "stdout",
          "text": [
            "\n",
            "Top 1 Score: 0.28:\n",
            "year as holidays. This will be as-per a pre-published holiday calendar. For further information, employees\n",
            "\n",
            "Top 2 Score: 0.20:\n",
            "Adobe will provide India employees with 8 days of paid casual time off, per calendar year. Any unused casual\n",
            "\n",
            "Top 3 Score: 0.20:\n",
            "In keeping with the National and Festival Holidays Act, India employees will be paid 10 days per calendar\n",
            "\n",
            "Top 4 Score: 0.19:\n",
            "Adobe will provide India employees up to 10 days of paid sick time per calendar year. Employees availing sick\n",
            "\n",
            "Top 5 Score: 0.17:\n",
            "year). Any unused vacation leaves will carry over to the next calendar year up to a maximum of 45 days. Once it\n"
          ]
        }
      ]
    },
    {
      "cell_type": "code",
      "source": [
        "query_2 = \"Give details about sick leave?\"\n",
        "retrieve_score_results(query_2)"
      ],
      "metadata": {
        "colab": {
          "base_uri": "https://localhost:8080/"
        },
        "id": "uGRmpIXFcnf3",
        "outputId": "9fe33eba-e26c-4562-a729-dfe3f14444d2"
      },
      "execution_count": 47,
      "outputs": [
        {
          "output_type": "stream",
          "name": "stdout",
          "text": [
            "\n",
            "Top 1 Score: 0.21:\n",
            "also would need to give his/her contact details to the Manager so that Manager can contact the employee \n",
            "during the absence in case of an emergency. Employees can apply for leaves through Work Day\n",
            "\n",
            "Top 2 Score: 0.18:\n",
            "Adobe will provide India employees up to 10 days of paid sick time per calendar year. Employees availing sick\n",
            "\n",
            "Top 3 Score: 0.16:\n",
            "The Company provides the following leave for all regular employees. \n",
            "Vacation Leave \n",
            "Casual Leave \n",
            "Sick Leave \n",
            "Company Break Period \n",
            "3. Vacation Leave\n",
            "\n",
            "Top 4 Score: 0.14:\n",
            "leave will lapse at the end of the calendar year. Employees can apply for leaves through Work Day Workday \n",
            "5. Sick Leave\n",
            "\n",
            "Top 5 Score: 0.10:\n",
            "Workday \n",
            "SABBATICAL PLAN \n",
            "Please read details on the Sabbatical Plan through this link: \n",
            "https://benefits.adobe.com/in/time-off/sabbatical \n",
            "LEAVE OF ABSENCE (Medical LOA, Personal LOA)\n"
          ]
        }
      ]
    },
    {
      "cell_type": "code",
      "source": [],
      "metadata": {
        "id": "18OEvVzZdTVp"
      },
      "execution_count": null,
      "outputs": []
    }
  ]
}